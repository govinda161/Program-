{
 "cells": [
  {
   "cell_type": "code",
   "execution_count": 3,
   "id": "eb0ba2d0-29a5-41e7-ae6d-25f2bb0e06d8",
   "metadata": {},
   "outputs": [],
   "source": [
    "import pandas as pd"
   ]
  },
  {
   "cell_type": "code",
   "execution_count": 5,
   "id": "9a8d8a0c-5e39-45cd-a2a8-901b98cedcb9",
   "metadata": {},
   "outputs": [
    {
     "name": "stdout",
     "output_type": "stream",
     "text": [
      "         Name  Age Gender Course         City Grade Div  Height\n",
      "Jan    Govida   20   Male  DANLC       Mumbai     A   B   177.7\n",
      "Feb     Ankit   21   Male   JAVA       Mumbai     B   C   180.3\n",
      "Mar   Krishna   22   Male  DANLC       Mumbai     A   B   165.2\n",
      "Apr      Yash   22   Male   JAVA         Pune     C   D   150.3\n",
      "May  Himanshu   20   Male  DANLC  Navi Mumbai     B   A   180.5\n"
     ]
    }
   ],
   "source": [
    "# data structure : datFrame(matric) and series(1d array)\n",
    "dataFrame = {\"Name\":[\"Govida\",\"Ankit\",\"Krishna\",\"Yash\",\"Himanshu\"],\n",
    "            \"Age\":[20,21,22,22,20],\n",
    "            \"Course\": [\"DANLC\",\"JAVA\",\"DANLC\",\"JAVA\",\"DANLC\"],\n",
    "}\n",
    "ind = [\"Jan\",\"Feb\",\"Mar\",\"Apr\",\"May\"]\n",
    "df = pd.DataFrame(dataFrame, index = ind)\n",
    "# To update/add a coloumns\n",
    "df[\"City\"] =[\"Mumbai\",\"Mumbai\",\"Mumbai\",\"Pune\",\"Navi Mumbai\"]\n",
    "\n",
    "# adding multiple columns in a table\n",
    "newColumns = { \n",
    "                 \"Grade\": [\"A\",\"B\",\"A\",\"C\",\"B\"],\n",
    "                 \"Div\": [\"B\",\"C\",\"B\",\"D\",\"A\"],\n",
    "                 \"Height\":[177.7,180.30,165.20,150.30,180.50]\n",
    "}\n",
    "df[\"Grade\"] = newColumns[\"Grade\"]\n",
    "df[\"Div\"] = newColumns[\"Div\"]\n",
    "df[\"Height\"] = newColumns[\"Height\"]\n",
    "\n",
    "# adding columns in between\n",
    "gender = [\"Male\",\"Male\",\"Male\",\"Male\",\"Male\"]\n",
    "df.insert(2,\"Gender\",gender)\n",
    "print(df)"
   ]
  },
  {
   "cell_type": "code",
   "execution_count": null,
   "id": "16e534c4-2dd4-4b09-953d-4cc81d040750",
   "metadata": {},
   "outputs": [],
   "source": []
  }
 ],
 "metadata": {
  "kernelspec": {
   "display_name": "Python 3 (ipykernel)",
   "language": "python",
   "name": "python3"
  },
  "language_info": {
   "codemirror_mode": {
    "name": "ipython",
    "version": 3
   },
   "file_extension": ".py",
   "mimetype": "text/x-python",
   "name": "python",
   "nbconvert_exporter": "python",
   "pygments_lexer": "ipython3",
   "version": "3.12.4"
  }
 },
 "nbformat": 4,
 "nbformat_minor": 5
}
