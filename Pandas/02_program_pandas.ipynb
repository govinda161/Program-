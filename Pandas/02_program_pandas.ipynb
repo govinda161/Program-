{
 "cells": [
  {
   "cell_type": "code",
   "execution_count": 4,
   "id": "6c0ef332-048c-4bc3-bbd3-226b4ffb9d49",
   "metadata": {},
   "outputs": [],
   "source": [
    "import pandas as pd"
   ]
  },
  {
   "cell_type": "code",
   "execution_count": 6,
   "id": "722b58e4-7829-42db-beac-64f6d25da0f0",
   "metadata": {},
   "outputs": [
    {
     "name": "stdout",
     "output_type": "stream",
     "text": [
      "A     10\n",
      "B     20\n",
      "C     30\n",
      "D     40\n",
      "E     50\n",
      "F     60\n",
      "G     70\n",
      "H     80\n",
      "I     90\n",
      "J    100\n",
      "dtype: int64\n"
     ]
    }
   ],
   "source": [
    "# data structure : datFrame(matric) and series(1d array)\n",
    "dataset = [10,20,30,40,50,60,70,80,90,100]\n",
    "ind = [\"A\",\"B\",\"C\",\"D\",\"E\",\"F\",\"G\",\"H\",\"I\",\"J\"]\n",
    "series = pd.Series(dataset, index = ind) # 1d array\n",
    "print(series)"
   ]
  },
  {
   "cell_type": "code",
   "execution_count": null,
   "id": "e76bc1e3-2554-4065-b618-c0e35d6abe90",
   "metadata": {},
   "outputs": [],
   "source": []
  }
 ],
 "metadata": {
  "kernelspec": {
   "display_name": "Python 3 (ipykernel)",
   "language": "python",
   "name": "python3"
  },
  "language_info": {
   "codemirror_mode": {
    "name": "ipython",
    "version": 3
   },
   "file_extension": ".py",
   "mimetype": "text/x-python",
   "name": "python",
   "nbconvert_exporter": "python",
   "pygments_lexer": "ipython3",
   "version": "3.12.4"
  }
 },
 "nbformat": 4,
 "nbformat_minor": 5
}
