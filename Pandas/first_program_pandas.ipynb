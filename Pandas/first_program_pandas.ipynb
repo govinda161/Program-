# Import pandas library 
import pandas as pd

# data structure : datFrame(matric) and series(1d array)
dataset = [10,20,30,40,50,60,70,80,90,100]
series = pd.Series(dataset)# 1d array
print(series)
