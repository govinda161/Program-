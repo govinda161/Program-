{
 "cells": [
  {
   "cell_type": "code",
   "execution_count": 5,
   "id": "c988ca30-2d1b-419f-93b4-a63f591f1bfe",
   "metadata": {},
   "outputs": [
    {
     "name": "stdin",
     "output_type": "stream",
     "text": [
      "Enter a string:  Hello Everyone \n"
     ]
    },
    {
     "name": "stdout",
     "output_type": "stream",
     "text": [
      "H\n",
      "l\n",
      "o\n",
      "E\n",
      "e\n",
      "y\n",
      "n\n",
      " \n"
     ]
    }
   ],
   "source": [
    "# Accept a string input from the user\n",
    "user_input = input(\"Enter a string: \")\n",
    "\n",
    "# Loop through the string using a range based on the string length\n",
    "for i in range(len(user_input)):\n",
    "    # Check if the current index is even (i.e., divisible by 2)\n",
    "    if i % 2 == 0:\n",
    "        # If the index is even, print the character at that index\n",
    "        print(user_input[i])\n"
   ]
  },
  {
   "cell_type": "code",
   "execution_count": null,
   "id": "87d1cc87-173d-4064-9aa7-4545132fa016",
   "metadata": {},
   "outputs": [],
   "source": []
  }
 ],
 "metadata": {
  "kernelspec": {
   "display_name": "Python 3 (ipykernel)",
   "language": "python",
   "name": "python3"
  },
  "language_info": {
   "codemirror_mode": {
    "name": "ipython",
    "version": 3
   },
   "file_extension": ".py",
   "mimetype": "text/x-python",
   "name": "python",
   "nbconvert_exporter": "python",
   "pygments_lexer": "ipython3",
   "version": "3.12.4"
  }
 },
 "nbformat": 4,
 "nbformat_minor": 5
}
