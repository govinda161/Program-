{
 "cells": [
  {
   "cell_type": "code",
   "execution_count": 3,
   "id": "a5e2a303-af8c-4513-a004-170a5afef9be",
   "metadata": {},
   "outputs": [],
   "source": [
    "#Import the NumPy library\n",
    "import numpy as np"
   ]
  },
  {
   "cell_type": "code",
   "execution_count": 9,
   "id": "c49c0387-22a7-4a5d-a276-272206cc21e1",
   "metadata": {},
   "outputs": [
    {
     "name": "stdout",
     "output_type": "stream",
     "text": [
      "Print the Original array:\n",
      "[1 2 3 4 5 6 7]\n",
      "Median of the array that contains odd no of elements:\n",
      "4.0\n"
     ]
    }
   ],
   "source": [
    "# Define the NumPy array\n",
    "x_odd = np.array([1, 2, 3, 4, 5, 6, 7])  # Input array\n",
    "\n",
    "# Calculate the median\n",
    "median_value = np.median(x_odd) \n",
    "\n",
    "# Print the median value\n",
    "print(\"Print the Original array:\")\n",
    "print(x_odd)\n",
    "print(\"Median of the array that contains odd no of elements:\")\n",
    "print(median_value)# Output the median"
   ]
  },
  {
   "cell_type": "code",
   "execution_count": null,
   "id": "9449dc6c-ab50-45a9-afc4-3b957c9c9fd9",
   "metadata": {},
   "outputs": [],
   "source": []
  }
 ],
 "metadata": {
  "kernelspec": {
   "display_name": "Python 3 (ipykernel)",
   "language": "python",
   "name": "python3"
  },
  "language_info": {
   "codemirror_mode": {
    "name": "ipython",
    "version": 3
   },
   "file_extension": ".py",
   "mimetype": "text/x-python",
   "name": "python",
   "nbconvert_exporter": "python",
   "pygments_lexer": "ipython3",
   "version": "3.12.4"
  }
 },
 "nbformat": 4,
 "nbformat_minor": 5
}
