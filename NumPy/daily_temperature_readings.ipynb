{
 "cells": [
  {
   "cell_type": "code",
   "execution_count": 1,
   "id": "c154267f-eab9-4ab5-97be-be709a47a142",
   "metadata": {},
   "outputs": [],
   "source": [
    "import numpy as np"
   ]
  },
  {
   "cell_type": "code",
   "execution_count": 25,
   "id": "ebd405e7-0550-4da7-a4dc-cb6d6f9f5e00",
   "metadata": {},
   "outputs": [
    {
     "name": "stdout",
     "output_type": "stream",
     "text": [
      "Hot days:\n",
      "Days:[3 6 10]    temperatures(°C): [36.8 38.7 37.2]\n",
      "Cold days:\n",
      "Days:[11 14 15]    temperatures(°C): [  4.  -4. -12.]\n"
     ]
    }
   ],
   "source": [
    "# Input temperature data\n",
    "temperatures = np.array([32.5, 34.2, 36.8, 29.3, 31.0, 38.7, 23.1, 18.5, 22.8, 37.2,4,25,12,-4,-12])\n",
    "# Identify hot days (temperature > 35°C)\n",
    "hot_days = temperatures[temperatures > 35]\n",
    "\n",
    "# Identify cold days (temperature < 5°C)\n",
    "cold_days = temperatures[temperatures < 5]\n",
    "\n",
    "# Output results\n",
    "print(\"Hot days:\")\n",
    "print(\"Days:[3 6 10]    temperatures(°C):\",hot_days)\n",
    "print(\"Cold days:\")\n",
    "print(\"Days:[11 14 15]    temperatures(°C):\",cold_days)\n"
   ]
  },
  {
   "cell_type": "code",
   "execution_count": null,
   "id": "dd7f5dfd-aea9-4fa3-8b4d-20b0b5524203",
   "metadata": {},
   "outputs": [],
   "source": []
  }
 ],
 "metadata": {
  "kernelspec": {
   "display_name": "Python 3 (ipykernel)",
   "language": "python",
   "name": "python3"
  },
  "language_info": {
   "codemirror_mode": {
    "name": "ipython",
    "version": 3
   },
   "file_extension": ".py",
   "mimetype": "text/x-python",
   "name": "python",
   "nbconvert_exporter": "python",
   "pygments_lexer": "ipython3",
   "version": "3.12.4"
  }
 },
 "nbformat": 4,
 "nbformat_minor": 5
}
