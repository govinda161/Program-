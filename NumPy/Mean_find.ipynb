{
 "cells": [
  {
   "cell_type": "code",
   "execution_count": 5,
   "id": "23b5af95-0b19-47d7-83c4-bd3d977b72b6",
   "metadata": {},
   "outputs": [],
   "source": [
    "# Import the NumPy library\n",
    "import numpy as np"
   ]
  },
  {
   "cell_type": "code",
   "execution_count": 9,
   "id": "5279a770-7cb7-458e-8b8f-5af32b8a76cb",
   "metadata": {},
   "outputs": [
    {
     "name": "stdout",
     "output_type": "stream",
     "text": [
      "Mean of Each array\n",
      "[np.float64(5.5), np.float64(30.6), np.float64(34.0)]\n"
     ]
    }
   ],
   "source": [
    "# Define the list of NumPy arrays\n",
    "array_list = [ \n",
    "    np.array([3, 2, 8, 9]),  # First array\n",
    "    np.array([4, 12, 34, 25, 78]),  # Second array\n",
    "    np.array([23, 12, 67])  # Third array\n",
    "]\n",
    "\n",
    "# Calculate the mean for each array\n",
    "means = [np.mean(arr) for arr in array_list]   \n",
    "\n",
    "# Print the means\n",
    "print(\"Mean of Each array\")\n",
    "print(means)  # Output the list of means"
   ]
  },
  {
   "cell_type": "code",
   "execution_count": null,
   "id": "3ed8a03a-6eb6-494f-9ada-131360f032ac",
   "metadata": {},
   "outputs": [],
   "source": []
  }
 ],
 "metadata": {
  "kernelspec": {
   "display_name": "Python 3 (ipykernel)",
   "language": "python",
   "name": "python3"
  },
  "language_info": {
   "codemirror_mode": {
    "name": "ipython",
    "version": 3
   },
   "file_extension": ".py",
   "mimetype": "text/x-python",
   "name": "python",
   "nbconvert_exporter": "python",
   "pygments_lexer": "ipython3",
   "version": "3.12.4"
  }
 },
 "nbformat": 4,
 "nbformat_minor": 5
}
